{
 "cells": [
  {
   "cell_type": "code",
   "execution_count": 49,
   "metadata": {
    "colab": {},
    "colab_type": "code",
    "id": "d9YB-opgIAvw"
   },
   "outputs": [],
   "source": [
    "import pandas as pd\n",
    "import pickle\n",
    "import gzip\n",
    "import json"
   ]
  },
  {
   "cell_type": "code",
   "execution_count": 50,
   "metadata": {},
   "outputs": [],
   "source": [
    "#Code adapted from the datasource http://jmcauley.ucsd.edu/data/amazon/\n",
    "def parse(path):\n",
    "    g = gzip.open(path, 'rb')\n",
    "    for l in g:\n",
    "        yield json.loads(l)\n",
    "\n",
    "def getDF(path):\n",
    "    i = 0\n",
    "    df = {}\n",
    "    for d in parse(path):\n",
    "        df[i] = d\n",
    "        i += 1\n",
    "    return pd.DataFrame.from_dict(df, orient='index')"
   ]
  },
  {
   "cell_type": "code",
   "execution_count": 51,
   "metadata": {},
   "outputs": [],
   "source": [
    "#Convert json to pd dataframe\n",
    "df = getDF('Home_and_Kitchen.json.gz')"
   ]
  },
  {
   "cell_type": "code",
   "execution_count": 52,
   "metadata": {},
   "outputs": [
    {
     "name": "stdout",
     "output_type": "stream",
     "text": [
      "<class 'pandas.core.frame.DataFrame'>\n",
      "Int64Index: 21928568 entries, 0 to 21928567\n",
      "Data columns (total 12 columns):\n",
      " #   Column          Dtype  \n",
      "---  ------          -----  \n",
      " 0   overall         float64\n",
      " 1   vote            object \n",
      " 2   verified        bool   \n",
      " 3   reviewTime      object \n",
      " 4   reviewerID      object \n",
      " 5   asin            object \n",
      " 6   reviewerName    object \n",
      " 7   reviewText      object \n",
      " 8   summary         object \n",
      " 9   unixReviewTime  int64  \n",
      " 10  style           object \n",
      " 11  image           object \n",
      "dtypes: bool(1), float64(1), int64(1), object(9)\n",
      "memory usage: 2.0+ GB\n"
     ]
    }
   ],
   "source": [
    "#Check datatype and information\n",
    "df.info()"
   ]
  },
  {
   "cell_type": "code",
   "execution_count": 53,
   "metadata": {},
   "outputs": [
    {
     "data": {
      "text/html": [
       "<div>\n",
       "<style scoped>\n",
       "    .dataframe tbody tr th:only-of-type {\n",
       "        vertical-align: middle;\n",
       "    }\n",
       "\n",
       "    .dataframe tbody tr th {\n",
       "        vertical-align: top;\n",
       "    }\n",
       "\n",
       "    .dataframe thead th {\n",
       "        text-align: right;\n",
       "    }\n",
       "</style>\n",
       "<table border=\"1\" class=\"dataframe\">\n",
       "  <thead>\n",
       "    <tr style=\"text-align: right;\">\n",
       "      <th></th>\n",
       "      <th>overall</th>\n",
       "      <th>vote</th>\n",
       "      <th>verified</th>\n",
       "      <th>reviewTime</th>\n",
       "      <th>reviewerID</th>\n",
       "      <th>asin</th>\n",
       "      <th>reviewerName</th>\n",
       "      <th>reviewText</th>\n",
       "      <th>summary</th>\n",
       "      <th>unixReviewTime</th>\n",
       "      <th>style</th>\n",
       "      <th>image</th>\n",
       "    </tr>\n",
       "  </thead>\n",
       "  <tbody>\n",
       "    <tr>\n",
       "      <th>0</th>\n",
       "      <td>5.0</td>\n",
       "      <td>2</td>\n",
       "      <td>True</td>\n",
       "      <td>08 31, 2010</td>\n",
       "      <td>A3NSN9WOX8470M</td>\n",
       "      <td>0006564224</td>\n",
       "      <td>mmm</td>\n",
       "      <td>I don't use these for their original use, and ...</td>\n",
       "      <td>Many uses...</td>\n",
       "      <td>1283212800</td>\n",
       "      <td>NaN</td>\n",
       "      <td>NaN</td>\n",
       "    </tr>\n",
       "    <tr>\n",
       "      <th>1</th>\n",
       "      <td>5.0</td>\n",
       "      <td>2</td>\n",
       "      <td>True</td>\n",
       "      <td>04 2, 2010</td>\n",
       "      <td>A2AMX0AJ2BUDNV</td>\n",
       "      <td>0006564224</td>\n",
       "      <td>John R. Welch</td>\n",
       "      <td>Seems a bit expensive for a plastic bottle, bu...</td>\n",
       "      <td>Dispenser bottle</td>\n",
       "      <td>1270166400</td>\n",
       "      <td>NaN</td>\n",
       "      <td>NaN</td>\n",
       "    </tr>\n",
       "    <tr>\n",
       "      <th>2</th>\n",
       "      <td>5.0</td>\n",
       "      <td>NaN</td>\n",
       "      <td>True</td>\n",
       "      <td>11 5, 2015</td>\n",
       "      <td>A8LUWTIPU9CZB</td>\n",
       "      <td>0560467893</td>\n",
       "      <td>Linda Fahner</td>\n",
       "      <td>Great product, love it!!</td>\n",
       "      <td>Five Stars</td>\n",
       "      <td>1446681600</td>\n",
       "      <td>NaN</td>\n",
       "      <td>NaN</td>\n",
       "    </tr>\n",
       "    <tr>\n",
       "      <th>3</th>\n",
       "      <td>4.0</td>\n",
       "      <td>4</td>\n",
       "      <td>True</td>\n",
       "      <td>10 29, 2015</td>\n",
       "      <td>AABKIIHAL0L66</td>\n",
       "      <td>0560467893</td>\n",
       "      <td>TheBlueChain</td>\n",
       "      <td>This is a sturdy floating corner shelf!  We mo...</td>\n",
       "      <td>Sturdy Shelf, Poor Installation Instructions</td>\n",
       "      <td>1446076800</td>\n",
       "      <td>NaN</td>\n",
       "      <td>NaN</td>\n",
       "    </tr>\n",
       "    <tr>\n",
       "      <th>4</th>\n",
       "      <td>3.0</td>\n",
       "      <td>NaN</td>\n",
       "      <td>True</td>\n",
       "      <td>09 9, 2015</td>\n",
       "      <td>A3DA0KIQ5OBK5C</td>\n",
       "      <td>0560467893</td>\n",
       "      <td>angelaarden</td>\n",
       "      <td>I purchased 4 of these shelves. they look grea...</td>\n",
       "      <td>Look great - one bad one...</td>\n",
       "      <td>1441756800</td>\n",
       "      <td>NaN</td>\n",
       "      <td>NaN</td>\n",
       "    </tr>\n",
       "  </tbody>\n",
       "</table>\n",
       "</div>"
      ],
      "text/plain": [
       "   overall vote  verified   reviewTime      reviewerID        asin  \\\n",
       "0      5.0    2      True  08 31, 2010  A3NSN9WOX8470M  0006564224   \n",
       "1      5.0    2      True   04 2, 2010  A2AMX0AJ2BUDNV  0006564224   \n",
       "2      5.0  NaN      True   11 5, 2015   A8LUWTIPU9CZB  0560467893   \n",
       "3      4.0    4      True  10 29, 2015   AABKIIHAL0L66  0560467893   \n",
       "4      3.0  NaN      True   09 9, 2015  A3DA0KIQ5OBK5C  0560467893   \n",
       "\n",
       "    reviewerName                                         reviewText  \\\n",
       "0            mmm  I don't use these for their original use, and ...   \n",
       "1  John R. Welch  Seems a bit expensive for a plastic bottle, bu...   \n",
       "2   Linda Fahner                           Great product, love it!!   \n",
       "3   TheBlueChain  This is a sturdy floating corner shelf!  We mo...   \n",
       "4    angelaarden  I purchased 4 of these shelves. they look grea...   \n",
       "\n",
       "                                        summary  unixReviewTime style image  \n",
       "0                                  Many uses...      1283212800   NaN   NaN  \n",
       "1                              Dispenser bottle      1270166400   NaN   NaN  \n",
       "2                                    Five Stars      1446681600   NaN   NaN  \n",
       "3  Sturdy Shelf, Poor Installation Instructions      1446076800   NaN   NaN  \n",
       "4                   Look great - one bad one...      1441756800   NaN   NaN  "
      ]
     },
     "execution_count": 53,
     "metadata": {},
     "output_type": "execute_result"
    }
   ],
   "source": [
    "#View top 5 rows\n",
    "df.head(5)"
   ]
  },
  {
   "cell_type": "markdown",
   "metadata": {},
   "source": [
    "## Data Preparation and Cleaning\n",
    "#### 1. The column name 'vote','style','image' does not provide much information for this project and 'reviewerName' is not required since the dataset contains 'reviewer id'\n",
    "#### 2. Drop all the unverified reviews\n",
    "#### 3. Conver reviewtime to date format \n",
    "#### 4. Find all duplicate entries (I.e If the reviewer has reviewed the same product more than once, Keep the latest review)\n",
    "#### 5. Check for null values remove entries where both summary and reviewtext are nan\n",
    "#### 6. Find all the url in summary text and replace them with ''\n",
    "#### 7. Combine Review text and summary column and drop summary column and reset index\n",
    "#### 8. Find all the url in review text and remove\n",
    "#### 9. Check for null values\n",
    "#### 10. Save pickle file"
   ]
  },
  {
   "cell_type": "code",
   "execution_count": 54,
   "metadata": {},
   "outputs": [],
   "source": [
    "#Drop columns that are not required for analysis\n",
    "df.drop(columns=['vote','style','image','reviewerName'],inplace=True)"
   ]
  },
  {
   "cell_type": "code",
   "execution_count": 55,
   "metadata": {
    "colab": {},
    "colab_type": "code",
    "id": "j49o5IINIAv8",
    "outputId": "7a629f0d-c357-43ae-b318-1459dfd083ac"
   },
   "outputs": [
    {
     "data": {
      "text/html": [
       "<div>\n",
       "<style scoped>\n",
       "    .dataframe tbody tr th:only-of-type {\n",
       "        vertical-align: middle;\n",
       "    }\n",
       "\n",
       "    .dataframe tbody tr th {\n",
       "        vertical-align: top;\n",
       "    }\n",
       "\n",
       "    .dataframe thead th {\n",
       "        text-align: right;\n",
       "    }\n",
       "</style>\n",
       "<table border=\"1\" class=\"dataframe\">\n",
       "  <thead>\n",
       "    <tr style=\"text-align: right;\">\n",
       "      <th></th>\n",
       "      <th>overall</th>\n",
       "      <th>verified</th>\n",
       "      <th>reviewTime</th>\n",
       "      <th>reviewerID</th>\n",
       "      <th>asin</th>\n",
       "      <th>reviewText</th>\n",
       "      <th>summary</th>\n",
       "      <th>unixReviewTime</th>\n",
       "    </tr>\n",
       "  </thead>\n",
       "  <tbody>\n",
       "    <tr>\n",
       "      <th>0</th>\n",
       "      <td>5.0</td>\n",
       "      <td>True</td>\n",
       "      <td>08 31, 2010</td>\n",
       "      <td>A3NSN9WOX8470M</td>\n",
       "      <td>0006564224</td>\n",
       "      <td>I don't use these for their original use, and ...</td>\n",
       "      <td>Many uses...</td>\n",
       "      <td>1283212800</td>\n",
       "    </tr>\n",
       "    <tr>\n",
       "      <th>1</th>\n",
       "      <td>5.0</td>\n",
       "      <td>True</td>\n",
       "      <td>04 2, 2010</td>\n",
       "      <td>A2AMX0AJ2BUDNV</td>\n",
       "      <td>0006564224</td>\n",
       "      <td>Seems a bit expensive for a plastic bottle, bu...</td>\n",
       "      <td>Dispenser bottle</td>\n",
       "      <td>1270166400</td>\n",
       "    </tr>\n",
       "    <tr>\n",
       "      <th>2</th>\n",
       "      <td>5.0</td>\n",
       "      <td>True</td>\n",
       "      <td>11 5, 2015</td>\n",
       "      <td>A8LUWTIPU9CZB</td>\n",
       "      <td>0560467893</td>\n",
       "      <td>Great product, love it!!</td>\n",
       "      <td>Five Stars</td>\n",
       "      <td>1446681600</td>\n",
       "    </tr>\n",
       "    <tr>\n",
       "      <th>3</th>\n",
       "      <td>4.0</td>\n",
       "      <td>True</td>\n",
       "      <td>10 29, 2015</td>\n",
       "      <td>AABKIIHAL0L66</td>\n",
       "      <td>0560467893</td>\n",
       "      <td>This is a sturdy floating corner shelf!  We mo...</td>\n",
       "      <td>Sturdy Shelf, Poor Installation Instructions</td>\n",
       "      <td>1446076800</td>\n",
       "    </tr>\n",
       "    <tr>\n",
       "      <th>4</th>\n",
       "      <td>3.0</td>\n",
       "      <td>True</td>\n",
       "      <td>09 9, 2015</td>\n",
       "      <td>A3DA0KIQ5OBK5C</td>\n",
       "      <td>0560467893</td>\n",
       "      <td>I purchased 4 of these shelves. they look grea...</td>\n",
       "      <td>Look great - one bad one...</td>\n",
       "      <td>1441756800</td>\n",
       "    </tr>\n",
       "  </tbody>\n",
       "</table>\n",
       "</div>"
      ],
      "text/plain": [
       "   overall  verified   reviewTime      reviewerID        asin  \\\n",
       "0      5.0      True  08 31, 2010  A3NSN9WOX8470M  0006564224   \n",
       "1      5.0      True   04 2, 2010  A2AMX0AJ2BUDNV  0006564224   \n",
       "2      5.0      True   11 5, 2015   A8LUWTIPU9CZB  0560467893   \n",
       "3      4.0      True  10 29, 2015   AABKIIHAL0L66  0560467893   \n",
       "4      3.0      True   09 9, 2015  A3DA0KIQ5OBK5C  0560467893   \n",
       "\n",
       "                                          reviewText  \\\n",
       "0  I don't use these for their original use, and ...   \n",
       "1  Seems a bit expensive for a plastic bottle, bu...   \n",
       "2                           Great product, love it!!   \n",
       "3  This is a sturdy floating corner shelf!  We mo...   \n",
       "4  I purchased 4 of these shelves. they look grea...   \n",
       "\n",
       "                                        summary  unixReviewTime  \n",
       "0                                  Many uses...      1283212800  \n",
       "1                              Dispenser bottle      1270166400  \n",
       "2                                    Five Stars      1446681600  \n",
       "3  Sturdy Shelf, Poor Installation Instructions      1446076800  \n",
       "4                   Look great - one bad one...      1441756800  "
      ]
     },
     "execution_count": 55,
     "metadata": {},
     "output_type": "execute_result"
    }
   ],
   "source": [
    "#View top 5 rows\n",
    "df.head(5)"
   ]
  },
  {
   "cell_type": "code",
   "execution_count": 56,
   "metadata": {
    "colab": {},
    "colab_type": "code",
    "id": "5IOAvGPqIAwF",
    "outputId": "4938fbcd-087a-4974-9b11-2252092fd3e0"
   },
   "outputs": [
    {
     "data": {
      "text/plain": [
       "array([ True, False])"
      ]
     },
     "execution_count": 56,
     "metadata": {},
     "output_type": "execute_result"
    }
   ],
   "source": [
    "#Check for the unique values in verified column\n",
    "df.verified.unique()"
   ]
  },
  {
   "cell_type": "code",
   "execution_count": 57,
   "metadata": {
    "colab": {},
    "colab_type": "code",
    "id": "gxbNWX04IAwK"
   },
   "outputs": [],
   "source": [
    "#Drop all the unverified reviews\n",
    "drp_ind = df[df['verified']==False].index\n",
    "df.drop(drp_ind,inplace=True)"
   ]
  },
  {
   "cell_type": "code",
   "execution_count": 58,
   "metadata": {
    "colab": {},
    "colab_type": "code",
    "id": "fVbP1KxGIAwl"
   },
   "outputs": [],
   "source": [
    "#Covert unixReview time to date date format and add a column 'rev_date'\n",
    "df['rev_date'] = pd.to_datetime(df.unixReviewTime,unit = 's')"
   ]
  },
  {
   "cell_type": "code",
   "execution_count": 59,
   "metadata": {
    "colab": {},
    "colab_type": "code",
    "id": "EZoKRur2FxbY"
   },
   "outputs": [],
   "source": [
    "#drop unwanted columns\n",
    "df.drop(columns=['reviewTime','unixReviewTime','verified'],inplace=True)"
   ]
  },
  {
   "cell_type": "code",
   "execution_count": 60,
   "metadata": {},
   "outputs": [
    {
     "data": {
      "text/html": [
       "<div>\n",
       "<style scoped>\n",
       "    .dataframe tbody tr th:only-of-type {\n",
       "        vertical-align: middle;\n",
       "    }\n",
       "\n",
       "    .dataframe tbody tr th {\n",
       "        vertical-align: top;\n",
       "    }\n",
       "\n",
       "    .dataframe thead th {\n",
       "        text-align: right;\n",
       "    }\n",
       "</style>\n",
       "<table border=\"1\" class=\"dataframe\">\n",
       "  <thead>\n",
       "    <tr style=\"text-align: right;\">\n",
       "      <th></th>\n",
       "      <th>overall</th>\n",
       "      <th>reviewerID</th>\n",
       "      <th>asin</th>\n",
       "      <th>reviewText</th>\n",
       "      <th>summary</th>\n",
       "      <th>rev_date</th>\n",
       "    </tr>\n",
       "  </thead>\n",
       "  <tbody>\n",
       "    <tr>\n",
       "      <th>0</th>\n",
       "      <td>5.0</td>\n",
       "      <td>A3NSN9WOX8470M</td>\n",
       "      <td>0006564224</td>\n",
       "      <td>I don't use these for their original use, and ...</td>\n",
       "      <td>Many uses...</td>\n",
       "      <td>2010-08-31</td>\n",
       "    </tr>\n",
       "    <tr>\n",
       "      <th>1</th>\n",
       "      <td>5.0</td>\n",
       "      <td>A2AMX0AJ2BUDNV</td>\n",
       "      <td>0006564224</td>\n",
       "      <td>Seems a bit expensive for a plastic bottle, bu...</td>\n",
       "      <td>Dispenser bottle</td>\n",
       "      <td>2010-04-02</td>\n",
       "    </tr>\n",
       "    <tr>\n",
       "      <th>2</th>\n",
       "      <td>5.0</td>\n",
       "      <td>A8LUWTIPU9CZB</td>\n",
       "      <td>0560467893</td>\n",
       "      <td>Great product, love it!!</td>\n",
       "      <td>Five Stars</td>\n",
       "      <td>2015-11-05</td>\n",
       "    </tr>\n",
       "    <tr>\n",
       "      <th>3</th>\n",
       "      <td>4.0</td>\n",
       "      <td>AABKIIHAL0L66</td>\n",
       "      <td>0560467893</td>\n",
       "      <td>This is a sturdy floating corner shelf!  We mo...</td>\n",
       "      <td>Sturdy Shelf, Poor Installation Instructions</td>\n",
       "      <td>2015-10-29</td>\n",
       "    </tr>\n",
       "    <tr>\n",
       "      <th>4</th>\n",
       "      <td>3.0</td>\n",
       "      <td>A3DA0KIQ5OBK5C</td>\n",
       "      <td>0560467893</td>\n",
       "      <td>I purchased 4 of these shelves. they look grea...</td>\n",
       "      <td>Look great - one bad one...</td>\n",
       "      <td>2015-09-09</td>\n",
       "    </tr>\n",
       "    <tr>\n",
       "      <th>...</th>\n",
       "      <td>...</td>\n",
       "      <td>...</td>\n",
       "      <td>...</td>\n",
       "      <td>...</td>\n",
       "      <td>...</td>\n",
       "      <td>...</td>\n",
       "    </tr>\n",
       "    <tr>\n",
       "      <th>21928563</th>\n",
       "      <td>3.0</td>\n",
       "      <td>A33Z5MOHLFIECI</td>\n",
       "      <td>B01HJH7K3Q</td>\n",
       "      <td>Not the size I was hoping for. Still a lovely ...</td>\n",
       "      <td>Three Stars</td>\n",
       "      <td>2017-12-21</td>\n",
       "    </tr>\n",
       "    <tr>\n",
       "      <th>21928564</th>\n",
       "      <td>5.0</td>\n",
       "      <td>A1BP93Y9L2HUL7</td>\n",
       "      <td>B01HJH7K3Q</td>\n",
       "      <td>Wonderful colors.  Super smooth - great feel. ...</td>\n",
       "      <td>Wonderful colors. Super smooth - great feel</td>\n",
       "      <td>2017-04-26</td>\n",
       "    </tr>\n",
       "    <tr>\n",
       "      <th>21928565</th>\n",
       "      <td>5.0</td>\n",
       "      <td>A3EYW1FBJ48SH1</td>\n",
       "      <td>B01HJH7K3Q</td>\n",
       "      <td>Excellent Quality, shipping did not take near ...</td>\n",
       "      <td>Excellent Quality</td>\n",
       "      <td>2017-01-03</td>\n",
       "    </tr>\n",
       "    <tr>\n",
       "      <th>21928566</th>\n",
       "      <td>5.0</td>\n",
       "      <td>AYOGJY5CDIY49</td>\n",
       "      <td>B01HJHTC6O</td>\n",
       "      <td>I bumped my old one and shattered it. This was...</td>\n",
       "      <td>I bumped my old one and shattered it. This ...</td>\n",
       "      <td>2018-08-03</td>\n",
       "    </tr>\n",
       "    <tr>\n",
       "      <th>21928567</th>\n",
       "      <td>5.0</td>\n",
       "      <td>ADNZ2NWXVKB1L</td>\n",
       "      <td>B01HJHTC6O</td>\n",
       "      <td>Fits perfectly in my GE fridge without any iss...</td>\n",
       "      <td>Its a shelf!</td>\n",
       "      <td>2015-08-03</td>\n",
       "    </tr>\n",
       "  </tbody>\n",
       "</table>\n",
       "<p>20015942 rows × 6 columns</p>\n",
       "</div>"
      ],
      "text/plain": [
       "          overall      reviewerID        asin  \\\n",
       "0             5.0  A3NSN9WOX8470M  0006564224   \n",
       "1             5.0  A2AMX0AJ2BUDNV  0006564224   \n",
       "2             5.0   A8LUWTIPU9CZB  0560467893   \n",
       "3             4.0   AABKIIHAL0L66  0560467893   \n",
       "4             3.0  A3DA0KIQ5OBK5C  0560467893   \n",
       "...           ...             ...         ...   \n",
       "21928563      3.0  A33Z5MOHLFIECI  B01HJH7K3Q   \n",
       "21928564      5.0  A1BP93Y9L2HUL7  B01HJH7K3Q   \n",
       "21928565      5.0  A3EYW1FBJ48SH1  B01HJH7K3Q   \n",
       "21928566      5.0   AYOGJY5CDIY49  B01HJHTC6O   \n",
       "21928567      5.0   ADNZ2NWXVKB1L  B01HJHTC6O   \n",
       "\n",
       "                                                 reviewText  \\\n",
       "0         I don't use these for their original use, and ...   \n",
       "1         Seems a bit expensive for a plastic bottle, bu...   \n",
       "2                                  Great product, love it!!   \n",
       "3         This is a sturdy floating corner shelf!  We mo...   \n",
       "4         I purchased 4 of these shelves. they look grea...   \n",
       "...                                                     ...   \n",
       "21928563  Not the size I was hoping for. Still a lovely ...   \n",
       "21928564  Wonderful colors.  Super smooth - great feel. ...   \n",
       "21928565  Excellent Quality, shipping did not take near ...   \n",
       "21928566  I bumped my old one and shattered it. This was...   \n",
       "21928567  Fits perfectly in my GE fridge without any iss...   \n",
       "\n",
       "                                                 summary   rev_date  \n",
       "0                                           Many uses... 2010-08-31  \n",
       "1                                       Dispenser bottle 2010-04-02  \n",
       "2                                             Five Stars 2015-11-05  \n",
       "3           Sturdy Shelf, Poor Installation Instructions 2015-10-29  \n",
       "4                            Look great - one bad one... 2015-09-09  \n",
       "...                                                  ...        ...  \n",
       "21928563                                     Three Stars 2017-12-21  \n",
       "21928564     Wonderful colors. Super smooth - great feel 2017-04-26  \n",
       "21928565                               Excellent Quality 2017-01-03  \n",
       "21928566  I bumped my old one and shattered it. This ... 2018-08-03  \n",
       "21928567                                    Its a shelf! 2015-08-03  \n",
       "\n",
       "[20015942 rows x 6 columns]"
      ]
     },
     "execution_count": 60,
     "metadata": {},
     "output_type": "execute_result"
    }
   ],
   "source": [
    "df"
   ]
  },
  {
   "cell_type": "code",
   "execution_count": 14,
   "metadata": {
    "colab": {},
    "colab_type": "code",
    "id": "qx5hzOM5J6dX"
   },
   "outputs": [],
   "source": [
    "#Sorting the rows by rev_date , old reviews to latest reviews\n",
    "df = df.sort_values(by = 'rev_date')"
   ]
  },
  {
   "cell_type": "code",
   "execution_count": 15,
   "metadata": {
    "colab": {},
    "colab_type": "code",
    "id": "o7b813biAQtK"
   },
   "outputs": [
    {
     "data": {
      "text/html": [
       "<div>\n",
       "<style scoped>\n",
       "    .dataframe tbody tr th:only-of-type {\n",
       "        vertical-align: middle;\n",
       "    }\n",
       "\n",
       "    .dataframe tbody tr th {\n",
       "        vertical-align: top;\n",
       "    }\n",
       "\n",
       "    .dataframe thead th {\n",
       "        text-align: right;\n",
       "    }\n",
       "</style>\n",
       "<table border=\"1\" class=\"dataframe\">\n",
       "  <thead>\n",
       "    <tr style=\"text-align: right;\">\n",
       "      <th></th>\n",
       "      <th>overall</th>\n",
       "      <th>reviewerID</th>\n",
       "      <th>asin</th>\n",
       "      <th>reviewText</th>\n",
       "      <th>summary</th>\n",
       "      <th>rev_date</th>\n",
       "    </tr>\n",
       "  </thead>\n",
       "  <tbody>\n",
       "    <tr>\n",
       "      <th>49831</th>\n",
       "      <td>5.0</td>\n",
       "      <td>ALJGB7XHPFCR</td>\n",
       "      <td>B00004R92U</td>\n",
       "      <td>After mixing your dough and letting it rise th...</td>\n",
       "      <td>BETTER THAN SLICED BREAD!</td>\n",
       "      <td>2000-06-30</td>\n",
       "    </tr>\n",
       "    <tr>\n",
       "      <th>50187</th>\n",
       "      <td>5.0</td>\n",
       "      <td>ALJGB7XHPFCR</td>\n",
       "      <td>B00004R92U</td>\n",
       "      <td>After mixing your dough and letting it rise th...</td>\n",
       "      <td>A great bread-making tool</td>\n",
       "      <td>2000-07-11</td>\n",
       "    </tr>\n",
       "    <tr>\n",
       "      <th>106985</th>\n",
       "      <td>5.0</td>\n",
       "      <td>A231WM2Z2JL0U3</td>\n",
       "      <td>B00004SQ0K</td>\n",
       "      <td>I've had mine for quite some time, and I would...</td>\n",
       "      <td>Perfect Results Always.</td>\n",
       "      <td>2000-09-05</td>\n",
       "    </tr>\n",
       "    <tr>\n",
       "      <th>66223</th>\n",
       "      <td>5.0</td>\n",
       "      <td>AX54G5AL870Q8</td>\n",
       "      <td>B00004RG94</td>\n",
       "      <td>Why do I like these so much?  Because the othe...</td>\n",
       "      <td>My favorite set of measuring spoons.</td>\n",
       "      <td>2000-10-19</td>\n",
       "    </tr>\n",
       "    <tr>\n",
       "      <th>100593</th>\n",
       "      <td>4.0</td>\n",
       "      <td>AJF1X7RTIDD8Y</td>\n",
       "      <td>B00004SDTC</td>\n",
       "      <td>This toaster toasts just fine.  The bread come...</td>\n",
       "      <td>It's a fine toaster, but</td>\n",
       "      <td>2001-06-22</td>\n",
       "    </tr>\n",
       "    <tr>\n",
       "      <th>...</th>\n",
       "      <td>...</td>\n",
       "      <td>...</td>\n",
       "      <td>...</td>\n",
       "      <td>...</td>\n",
       "      <td>...</td>\n",
       "      <td>...</td>\n",
       "    </tr>\n",
       "    <tr>\n",
       "      <th>21620553</th>\n",
       "      <td>5.0</td>\n",
       "      <td>AVWHLU1C2OWMD</td>\n",
       "      <td>B01D1ZUF78</td>\n",
       "      <td>Keeps hot enough to be drinkable, unlike the M...</td>\n",
       "      <td>Keeps hot enough to be drinkable, unlike the M...</td>\n",
       "      <td>2018-09-07</td>\n",
       "    </tr>\n",
       "    <tr>\n",
       "      <th>21620552</th>\n",
       "      <td>5.0</td>\n",
       "      <td>AVWHLU1C2OWMD</td>\n",
       "      <td>B01D1ZUF78</td>\n",
       "      <td>keeps my tea and candles warm!</td>\n",
       "      <td>Five Stars</td>\n",
       "      <td>2018-09-07</td>\n",
       "    </tr>\n",
       "    <tr>\n",
       "      <th>21620551</th>\n",
       "      <td>5.0</td>\n",
       "      <td>AVWHLU1C2OWMD</td>\n",
       "      <td>B01D1ZUF78</td>\n",
       "      <td>Five StarsWorks just as described. Happy I can...</td>\n",
       "      <td>Happy I can finally drink my tea without it ge...</td>\n",
       "      <td>2018-09-07</td>\n",
       "    </tr>\n",
       "    <tr>\n",
       "      <th>17130677</th>\n",
       "      <td>3.0</td>\n",
       "      <td>AV88XFKP7MXNS</td>\n",
       "      <td>B01HE1IVNA</td>\n",
       "      <td>Ok product</td>\n",
       "      <td>Ok product</td>\n",
       "      <td>2018-09-08</td>\n",
       "    </tr>\n",
       "    <tr>\n",
       "      <th>21874085</th>\n",
       "      <td>4.0</td>\n",
       "      <td>A1YPW8Q50UNQ8L</td>\n",
       "      <td>B01GS4JH1Y</td>\n",
       "      <td>More orange than red.  Still looks nice and go...</td>\n",
       "      <td>More orange than red</td>\n",
       "      <td>2018-09-16</td>\n",
       "    </tr>\n",
       "  </tbody>\n",
       "</table>\n",
       "<p>489932 rows × 6 columns</p>\n",
       "</div>"
      ],
      "text/plain": [
       "          overall      reviewerID        asin  \\\n",
       "49831         5.0    ALJGB7XHPFCR  B00004R92U   \n",
       "50187         5.0    ALJGB7XHPFCR  B00004R92U   \n",
       "106985        5.0  A231WM2Z2JL0U3  B00004SQ0K   \n",
       "66223         5.0   AX54G5AL870Q8  B00004RG94   \n",
       "100593        4.0   AJF1X7RTIDD8Y  B00004SDTC   \n",
       "...           ...             ...         ...   \n",
       "21620553      5.0   AVWHLU1C2OWMD  B01D1ZUF78   \n",
       "21620552      5.0   AVWHLU1C2OWMD  B01D1ZUF78   \n",
       "21620551      5.0   AVWHLU1C2OWMD  B01D1ZUF78   \n",
       "17130677      3.0   AV88XFKP7MXNS  B01HE1IVNA   \n",
       "21874085      4.0  A1YPW8Q50UNQ8L  B01GS4JH1Y   \n",
       "\n",
       "                                                 reviewText  \\\n",
       "49831     After mixing your dough and letting it rise th...   \n",
       "50187     After mixing your dough and letting it rise th...   \n",
       "106985    I've had mine for quite some time, and I would...   \n",
       "66223     Why do I like these so much?  Because the othe...   \n",
       "100593    This toaster toasts just fine.  The bread come...   \n",
       "...                                                     ...   \n",
       "21620553  Keeps hot enough to be drinkable, unlike the M...   \n",
       "21620552                     keeps my tea and candles warm!   \n",
       "21620551  Five StarsWorks just as described. Happy I can...   \n",
       "17130677                                         Ok product   \n",
       "21874085  More orange than red.  Still looks nice and go...   \n",
       "\n",
       "                                                    summary   rev_date  \n",
       "49831                             BETTER THAN SLICED BREAD! 2000-06-30  \n",
       "50187                             A great bread-making tool 2000-07-11  \n",
       "106985                              Perfect Results Always. 2000-09-05  \n",
       "66223                  My favorite set of measuring spoons. 2000-10-19  \n",
       "100593                             It's a fine toaster, but 2001-06-22  \n",
       "...                                                     ...        ...  \n",
       "21620553  Keeps hot enough to be drinkable, unlike the M... 2018-09-07  \n",
       "21620552                                         Five Stars 2018-09-07  \n",
       "21620551  Happy I can finally drink my tea without it ge... 2018-09-07  \n",
       "17130677                                         Ok product 2018-09-08  \n",
       "21874085                               More orange than red 2018-09-16  \n",
       "\n",
       "[489932 rows x 6 columns]"
      ]
     },
     "execution_count": 15,
     "metadata": {},
     "output_type": "execute_result"
    }
   ],
   "source": [
    "#ADD CODE for finding duplicates\n",
    "df[df.duplicated(subset = ['asin','reviewerID'], keep = 'last')]"
   ]
  },
  {
   "cell_type": "code",
   "execution_count": 16,
   "metadata": {},
   "outputs": [],
   "source": [
    "#Deleting these duplicate values keeping the latest review (the last value found)\n",
    "df.drop_duplicates(subset = ['asin','reviewerID'], keep ='last', inplace = True)"
   ]
  },
  {
   "cell_type": "code",
   "execution_count": 17,
   "metadata": {
    "scrolled": false
   },
   "outputs": [
    {
     "data": {
      "text/html": [
       "<div>\n",
       "<style scoped>\n",
       "    .dataframe tbody tr th:only-of-type {\n",
       "        vertical-align: middle;\n",
       "    }\n",
       "\n",
       "    .dataframe tbody tr th {\n",
       "        vertical-align: top;\n",
       "    }\n",
       "\n",
       "    .dataframe thead th {\n",
       "        text-align: right;\n",
       "    }\n",
       "</style>\n",
       "<table border=\"1\" class=\"dataframe\">\n",
       "  <thead>\n",
       "    <tr style=\"text-align: right;\">\n",
       "      <th></th>\n",
       "      <th>overall</th>\n",
       "      <th>reviewerID</th>\n",
       "      <th>asin</th>\n",
       "      <th>reviewText</th>\n",
       "      <th>summary</th>\n",
       "      <th>rev_date</th>\n",
       "    </tr>\n",
       "  </thead>\n",
       "  <tbody>\n",
       "    <tr>\n",
       "      <th>105246</th>\n",
       "      <td>5.0</td>\n",
       "      <td>A84J7PUWOC138</td>\n",
       "      <td>B00004SPEM</td>\n",
       "      <td>For drip coffee at home, you can't go wrong wi...</td>\n",
       "      <td>Good home coffee maker</td>\n",
       "      <td>2000-05-04</td>\n",
       "    </tr>\n",
       "    <tr>\n",
       "      <th>48581</th>\n",
       "      <td>4.0</td>\n",
       "      <td>A2MNB77YGJ3CN0</td>\n",
       "      <td>B00004R940</td>\n",
       "      <td>I'll admit it -- I'm a bit of a snob when it c...</td>\n",
       "      <td>I was skeptical, but now I'm sold . . .</td>\n",
       "      <td>2000-05-07</td>\n",
       "    </tr>\n",
       "    <tr>\n",
       "      <th>64286</th>\n",
       "      <td>5.0</td>\n",
       "      <td>A2Y8K7GP1QXUF4</td>\n",
       "      <td>B00004RFLJ</td>\n",
       "      <td>This is perfection.  You will never use a bett...</td>\n",
       "      <td>perfect</td>\n",
       "      <td>2000-05-15</td>\n",
       "    </tr>\n",
       "    <tr>\n",
       "      <th>97918</th>\n",
       "      <td>5.0</td>\n",
       "      <td>A3MDOV15JHNLB2</td>\n",
       "      <td>B00004SAF7</td>\n",
       "      <td>This corkscrew is amazing.  There are several ...</td>\n",
       "      <td>simply the best</td>\n",
       "      <td>2000-05-16</td>\n",
       "    </tr>\n",
       "    <tr>\n",
       "      <th>83109</th>\n",
       "      <td>5.0</td>\n",
       "      <td>A1LUUO72VAFKFJ</td>\n",
       "      <td>B00004S4TZ</td>\n",
       "      <td>Maybe when Mom cooked for a big family every d...</td>\n",
       "      <td>Superb.  Why didn't somebody think of this yea...</td>\n",
       "      <td>2000-05-19</td>\n",
       "    </tr>\n",
       "    <tr>\n",
       "      <th>...</th>\n",
       "      <td>...</td>\n",
       "      <td>...</td>\n",
       "      <td>...</td>\n",
       "      <td>...</td>\n",
       "      <td>...</td>\n",
       "      <td>...</td>\n",
       "    </tr>\n",
       "    <tr>\n",
       "      <th>21922967</th>\n",
       "      <td>5.0</td>\n",
       "      <td>ATLLCVVXJLM20</td>\n",
       "      <td>B01HGSBY1M</td>\n",
       "      <td>I love my robot and want to make sure he alway...</td>\n",
       "      <td>Wonderful filters</td>\n",
       "      <td>2018-10-04</td>\n",
       "    </tr>\n",
       "    <tr>\n",
       "      <th>21924579</th>\n",
       "      <td>5.0</td>\n",
       "      <td>A9DVSUU814KHG</td>\n",
       "      <td>B01HHDNCJS</td>\n",
       "      <td>Beautiful knife and packaging. Made a great gift</td>\n",
       "      <td>Well made</td>\n",
       "      <td>2018-10-04</td>\n",
       "    </tr>\n",
       "    <tr>\n",
       "      <th>21924615</th>\n",
       "      <td>2.0</td>\n",
       "      <td>A1NUE7VF4F83XK</td>\n",
       "      <td>B01HHDN586</td>\n",
       "      <td>The base of the bottle cap leaks bad especiall...</td>\n",
       "      <td>Bottle is leaking when squeezed</td>\n",
       "      <td>2018-10-04</td>\n",
       "    </tr>\n",
       "    <tr>\n",
       "      <th>21927348</th>\n",
       "      <td>5.0</td>\n",
       "      <td>A1DNLCUGJSDS8R</td>\n",
       "      <td>B01HISXWU6</td>\n",
       "      <td>Beautiful stones.  Larger then I expected.  Ve...</td>\n",
       "      <td>Beautiful</td>\n",
       "      <td>2018-10-04</td>\n",
       "    </tr>\n",
       "    <tr>\n",
       "      <th>21928534</th>\n",
       "      <td>5.0</td>\n",
       "      <td>A2FWXYFILDRRFH</td>\n",
       "      <td>B01HJGJUF8</td>\n",
       "      <td>Keeps coffee (black coffee) hot for a very lon...</td>\n",
       "      <td>Comfortable and easy to carry</td>\n",
       "      <td>2018-10-05</td>\n",
       "    </tr>\n",
       "  </tbody>\n",
       "</table>\n",
       "<p>19526010 rows × 6 columns</p>\n",
       "</div>"
      ],
      "text/plain": [
       "          overall      reviewerID        asin  \\\n",
       "105246        5.0   A84J7PUWOC138  B00004SPEM   \n",
       "48581         4.0  A2MNB77YGJ3CN0  B00004R940   \n",
       "64286         5.0  A2Y8K7GP1QXUF4  B00004RFLJ   \n",
       "97918         5.0  A3MDOV15JHNLB2  B00004SAF7   \n",
       "83109         5.0  A1LUUO72VAFKFJ  B00004S4TZ   \n",
       "...           ...             ...         ...   \n",
       "21922967      5.0   ATLLCVVXJLM20  B01HGSBY1M   \n",
       "21924579      5.0   A9DVSUU814KHG  B01HHDNCJS   \n",
       "21924615      2.0  A1NUE7VF4F83XK  B01HHDN586   \n",
       "21927348      5.0  A1DNLCUGJSDS8R  B01HISXWU6   \n",
       "21928534      5.0  A2FWXYFILDRRFH  B01HJGJUF8   \n",
       "\n",
       "                                                 reviewText  \\\n",
       "105246    For drip coffee at home, you can't go wrong wi...   \n",
       "48581     I'll admit it -- I'm a bit of a snob when it c...   \n",
       "64286     This is perfection.  You will never use a bett...   \n",
       "97918     This corkscrew is amazing.  There are several ...   \n",
       "83109     Maybe when Mom cooked for a big family every d...   \n",
       "...                                                     ...   \n",
       "21922967  I love my robot and want to make sure he alway...   \n",
       "21924579   Beautiful knife and packaging. Made a great gift   \n",
       "21924615  The base of the bottle cap leaks bad especiall...   \n",
       "21927348  Beautiful stones.  Larger then I expected.  Ve...   \n",
       "21928534  Keeps coffee (black coffee) hot for a very lon...   \n",
       "\n",
       "                                                    summary   rev_date  \n",
       "105246                               Good home coffee maker 2000-05-04  \n",
       "48581               I was skeptical, but now I'm sold . . . 2000-05-07  \n",
       "64286                                               perfect 2000-05-15  \n",
       "97918                                       simply the best 2000-05-16  \n",
       "83109     Superb.  Why didn't somebody think of this yea... 2000-05-19  \n",
       "...                                                     ...        ...  \n",
       "21922967                                  Wonderful filters 2018-10-04  \n",
       "21924579                                          Well made 2018-10-04  \n",
       "21924615                    Bottle is leaking when squeezed 2018-10-04  \n",
       "21927348                                          Beautiful 2018-10-04  \n",
       "21928534                      Comfortable and easy to carry 2018-10-05  \n",
       "\n",
       "[19526010 rows x 6 columns]"
      ]
     },
     "execution_count": 17,
     "metadata": {},
     "output_type": "execute_result"
    }
   ],
   "source": [
    "df"
   ]
  },
  {
   "cell_type": "code",
   "execution_count": 18,
   "metadata": {},
   "outputs": [
    {
     "data": {
      "text/plain": [
       "overall           0\n",
       "reviewerID        0\n",
       "asin              0\n",
       "reviewText    13782\n",
       "summary        5360\n",
       "rev_date          0\n",
       "dtype: int64"
      ]
     },
     "execution_count": 18,
     "metadata": {},
     "output_type": "execute_result"
    }
   ],
   "source": [
    "df.isna().sum()"
   ]
  },
  {
   "cell_type": "code",
   "execution_count": 19,
   "metadata": {},
   "outputs": [
    {
     "data": {
      "text/html": [
       "<div>\n",
       "<style scoped>\n",
       "    .dataframe tbody tr th:only-of-type {\n",
       "        vertical-align: middle;\n",
       "    }\n",
       "\n",
       "    .dataframe tbody tr th {\n",
       "        vertical-align: top;\n",
       "    }\n",
       "\n",
       "    .dataframe thead th {\n",
       "        text-align: right;\n",
       "    }\n",
       "</style>\n",
       "<table border=\"1\" class=\"dataframe\">\n",
       "  <thead>\n",
       "    <tr style=\"text-align: right;\">\n",
       "      <th></th>\n",
       "      <th>overall</th>\n",
       "      <th>reviewerID</th>\n",
       "      <th>asin</th>\n",
       "      <th>reviewText</th>\n",
       "      <th>summary</th>\n",
       "      <th>rev_date</th>\n",
       "    </tr>\n",
       "  </thead>\n",
       "  <tbody>\n",
       "    <tr>\n",
       "      <th>8574259</th>\n",
       "      <td>3.0</td>\n",
       "      <td>A31XB44TOW2RYC</td>\n",
       "      <td>B00BU2RPZK</td>\n",
       "      <td>NaN</td>\n",
       "      <td>NaN</td>\n",
       "      <td>2014-07-10</td>\n",
       "    </tr>\n",
       "    <tr>\n",
       "      <th>7215727</th>\n",
       "      <td>5.0</td>\n",
       "      <td>A31XB44TOW2RYC</td>\n",
       "      <td>B007HQ0MGW</td>\n",
       "      <td>NaN</td>\n",
       "      <td>NaN</td>\n",
       "      <td>2014-07-10</td>\n",
       "    </tr>\n",
       "    <tr>\n",
       "      <th>9944607</th>\n",
       "      <td>5.0</td>\n",
       "      <td>A3DHCIDXXT0GO8</td>\n",
       "      <td>B00GCAHDJ8</td>\n",
       "      <td>NaN</td>\n",
       "      <td>NaN</td>\n",
       "      <td>2014-08-31</td>\n",
       "    </tr>\n",
       "    <tr>\n",
       "      <th>2309307</th>\n",
       "      <td>4.0</td>\n",
       "      <td>A2XX64MZUGGR35</td>\n",
       "      <td>B000XU49MW</td>\n",
       "      <td>NaN</td>\n",
       "      <td>NaN</td>\n",
       "      <td>2014-09-04</td>\n",
       "    </tr>\n",
       "    <tr>\n",
       "      <th>4115595</th>\n",
       "      <td>5.0</td>\n",
       "      <td>A3DHCIDXXT0GO8</td>\n",
       "      <td>B00240AIIS</td>\n",
       "      <td>NaN</td>\n",
       "      <td>NaN</td>\n",
       "      <td>2014-09-08</td>\n",
       "    </tr>\n",
       "    <tr>\n",
       "      <th>...</th>\n",
       "      <td>...</td>\n",
       "      <td>...</td>\n",
       "      <td>...</td>\n",
       "      <td>...</td>\n",
       "      <td>...</td>\n",
       "      <td>...</td>\n",
       "    </tr>\n",
       "    <tr>\n",
       "      <th>21784560</th>\n",
       "      <td>5.0</td>\n",
       "      <td>A3RD507HMSLQJ2</td>\n",
       "      <td>B01FH8O37K</td>\n",
       "      <td>NaN</td>\n",
       "      <td>NaN</td>\n",
       "      <td>2018-09-24</td>\n",
       "    </tr>\n",
       "    <tr>\n",
       "      <th>21814305</th>\n",
       "      <td>5.0</td>\n",
       "      <td>A2Y6CNDAYR38ED</td>\n",
       "      <td>B01FX5CMC0</td>\n",
       "      <td>NaN</td>\n",
       "      <td>NaN</td>\n",
       "      <td>2018-09-26</td>\n",
       "    </tr>\n",
       "    <tr>\n",
       "      <th>21829935</th>\n",
       "      <td>5.0</td>\n",
       "      <td>AO0VEUDFJTNY</td>\n",
       "      <td>B01G58S2HS</td>\n",
       "      <td>NaN</td>\n",
       "      <td>NaN</td>\n",
       "      <td>2018-09-27</td>\n",
       "    </tr>\n",
       "    <tr>\n",
       "      <th>21903959</th>\n",
       "      <td>4.0</td>\n",
       "      <td>AUXX9QGK2ROAM</td>\n",
       "      <td>B01H6WX47A</td>\n",
       "      <td>NaN</td>\n",
       "      <td>NaN</td>\n",
       "      <td>2018-09-27</td>\n",
       "    </tr>\n",
       "    <tr>\n",
       "      <th>21915462</th>\n",
       "      <td>4.0</td>\n",
       "      <td>A312N8053V1OND</td>\n",
       "      <td>B01HDNSW38</td>\n",
       "      <td>NaN</td>\n",
       "      <td>NaN</td>\n",
       "      <td>2018-09-30</td>\n",
       "    </tr>\n",
       "  </tbody>\n",
       "</table>\n",
       "<p>383 rows × 6 columns</p>\n",
       "</div>"
      ],
      "text/plain": [
       "          overall      reviewerID        asin reviewText summary   rev_date\n",
       "8574259       3.0  A31XB44TOW2RYC  B00BU2RPZK        NaN     NaN 2014-07-10\n",
       "7215727       5.0  A31XB44TOW2RYC  B007HQ0MGW        NaN     NaN 2014-07-10\n",
       "9944607       5.0  A3DHCIDXXT0GO8  B00GCAHDJ8        NaN     NaN 2014-08-31\n",
       "2309307       4.0  A2XX64MZUGGR35  B000XU49MW        NaN     NaN 2014-09-04\n",
       "4115595       5.0  A3DHCIDXXT0GO8  B00240AIIS        NaN     NaN 2014-09-08\n",
       "...           ...             ...         ...        ...     ...        ...\n",
       "21784560      5.0  A3RD507HMSLQJ2  B01FH8O37K        NaN     NaN 2018-09-24\n",
       "21814305      5.0  A2Y6CNDAYR38ED  B01FX5CMC0        NaN     NaN 2018-09-26\n",
       "21829935      5.0    AO0VEUDFJTNY  B01G58S2HS        NaN     NaN 2018-09-27\n",
       "21903959      4.0   AUXX9QGK2ROAM  B01H6WX47A        NaN     NaN 2018-09-27\n",
       "21915462      4.0  A312N8053V1OND  B01HDNSW38        NaN     NaN 2018-09-30\n",
       "\n",
       "[383 rows x 6 columns]"
      ]
     },
     "execution_count": 19,
     "metadata": {},
     "output_type": "execute_result"
    }
   ],
   "source": [
    "#Check if both summary and review text are nan, delete those rows\n",
    "cols = ['reviewText','summary']\n",
    "df[df[cols].isnull().all(axis=1)]"
   ]
  },
  {
   "cell_type": "code",
   "execution_count": 20,
   "metadata": {},
   "outputs": [],
   "source": [
    "idx = df[df[cols].isnull().all(axis=1)].index"
   ]
  },
  {
   "cell_type": "code",
   "execution_count": 21,
   "metadata": {},
   "outputs": [],
   "source": [
    "df.drop(idx,inplace=True)"
   ]
  },
  {
   "cell_type": "code",
   "execution_count": 22,
   "metadata": {},
   "outputs": [
    {
     "data": {
      "text/plain": [
       "3192758     http://www.amazon.com/gp/product/B00185XISW/re...\n",
       "14545751    http://www.amazon.com/gp/product/B0006HUYGM/re...\n",
       "3274283     http://www.amazon.com/gp/product/B0019S20CS/re...\n",
       "3111557     http://www.amazon.com/gp/product/B0016NQ49Q/re...\n",
       "256928      http://www.amazon.com/gp/product/B0000631ZM/re...\n",
       "                                  ...                        \n",
       "19407716    https: //www. amazon. com/dp/B00FRGFSH2/ref=cm...\n",
       "19707710                                https: //www. amazon.\n",
       "21901732                                https: //www. amazon.\n",
       "19152212                                https: //www. amazon.\n",
       "21573556                                https: //www. amazon.\n",
       "Name: summary, Length: 779, dtype: object"
      ]
     },
     "execution_count": 22,
     "metadata": {},
     "output_type": "execute_result"
    }
   ],
   "source": [
    "#Get all the indexes of reviewtext which has url\n",
    "df.summary[df.summary.str.match(pat = '(https)|(http)|(www.)',na = False)]"
   ]
  },
  {
   "cell_type": "code",
   "execution_count": 23,
   "metadata": {},
   "outputs": [],
   "source": [
    "#store the index\n",
    "ids = df.summary[df.summary.str.match(pat = '(https)|(http)|(www.)',na = False)].index"
   ]
  },
  {
   "cell_type": "code",
   "execution_count": 24,
   "metadata": {
    "scrolled": true
   },
   "outputs": [
    {
     "data": {
      "text/plain": [
       "'http://www.amazon.com/gp/product/B0019S20CS/ref=cm_cr_rev_prod_title'"
      ]
     },
     "execution_count": 24,
     "metadata": {},
     "output_type": "execute_result"
    }
   ],
   "source": [
    "#display a sample summary with url\n",
    "df.summary[3274283]"
   ]
  },
  {
   "cell_type": "code",
   "execution_count": 25,
   "metadata": {},
   "outputs": [
    {
     "name": "stderr",
     "output_type": "stream",
     "text": [
      "/home/014544907/.local/lib/python3.6/site-packages/ipykernel_launcher.py:3: SettingWithCopyWarning: \n",
      "A value is trying to be set on a copy of a slice from a DataFrame\n",
      "\n",
      "See the caveats in the documentation: https://pandas.pydata.org/pandas-docs/stable/user_guide/indexing.html#returning-a-view-versus-a-copy\n",
      "  This is separate from the ipykernel package so we can avoid doing imports until\n"
     ]
    }
   ],
   "source": [
    "#Replace url with ''\n",
    "for i in ids:\n",
    "    df.summary[i]=''"
   ]
  },
  {
   "cell_type": "code",
   "execution_count": 26,
   "metadata": {},
   "outputs": [],
   "source": [
    "#double check all summary if it still has url\n",
    "id_s = df[df.summary.str.match(pat = '(https)|(http)|(www.)',na = False)].index"
   ]
  },
  {
   "cell_type": "code",
   "execution_count": 27,
   "metadata": {},
   "outputs": [
    {
     "data": {
      "text/plain": [
       "Int64Index([], dtype='int64')"
      ]
     },
     "execution_count": 27,
     "metadata": {},
     "output_type": "execute_result"
    }
   ],
   "source": [
    "#Index of all the summary which has urls\n",
    "id_s"
   ]
  },
  {
   "cell_type": "code",
   "execution_count": 28,
   "metadata": {
    "colab": {},
    "colab_type": "code",
    "id": "6cAHZuxgAV8s"
   },
   "outputs": [],
   "source": [
    "#combine both review and summary texts\n",
    "df['reviewText'] = df[['reviewText', 'summary']].astype(str).apply(lambda x: ' //'.join(x), axis = 1)"
   ]
  },
  {
   "cell_type": "code",
   "execution_count": 29,
   "metadata": {},
   "outputs": [],
   "source": [
    "#deleting summary column\n",
    "del df['summary']"
   ]
  },
  {
   "cell_type": "code",
   "execution_count": 30,
   "metadata": {},
   "outputs": [],
   "source": [
    "#reset index\n",
    "df.reset_index(inplace=True,drop=True)"
   ]
  },
  {
   "cell_type": "code",
   "execution_count": 31,
   "metadata": {},
   "outputs": [
    {
     "data": {
      "text/html": [
       "<div>\n",
       "<style scoped>\n",
       "    .dataframe tbody tr th:only-of-type {\n",
       "        vertical-align: middle;\n",
       "    }\n",
       "\n",
       "    .dataframe tbody tr th {\n",
       "        vertical-align: top;\n",
       "    }\n",
       "\n",
       "    .dataframe thead th {\n",
       "        text-align: right;\n",
       "    }\n",
       "</style>\n",
       "<table border=\"1\" class=\"dataframe\">\n",
       "  <thead>\n",
       "    <tr style=\"text-align: right;\">\n",
       "      <th></th>\n",
       "      <th>overall</th>\n",
       "      <th>reviewerID</th>\n",
       "      <th>asin</th>\n",
       "      <th>reviewText</th>\n",
       "      <th>rev_date</th>\n",
       "    </tr>\n",
       "  </thead>\n",
       "  <tbody>\n",
       "    <tr>\n",
       "      <th>0</th>\n",
       "      <td>5.0</td>\n",
       "      <td>A84J7PUWOC138</td>\n",
       "      <td>B00004SPEM</td>\n",
       "      <td>For drip coffee at home, you can't go wrong wi...</td>\n",
       "      <td>2000-05-04</td>\n",
       "    </tr>\n",
       "    <tr>\n",
       "      <th>1</th>\n",
       "      <td>4.0</td>\n",
       "      <td>A2MNB77YGJ3CN0</td>\n",
       "      <td>B00004R940</td>\n",
       "      <td>I'll admit it -- I'm a bit of a snob when it c...</td>\n",
       "      <td>2000-05-07</td>\n",
       "    </tr>\n",
       "    <tr>\n",
       "      <th>2</th>\n",
       "      <td>5.0</td>\n",
       "      <td>A2Y8K7GP1QXUF4</td>\n",
       "      <td>B00004RFLJ</td>\n",
       "      <td>This is perfection.  You will never use a bett...</td>\n",
       "      <td>2000-05-15</td>\n",
       "    </tr>\n",
       "    <tr>\n",
       "      <th>3</th>\n",
       "      <td>5.0</td>\n",
       "      <td>A3MDOV15JHNLB2</td>\n",
       "      <td>B00004SAF7</td>\n",
       "      <td>This corkscrew is amazing.  There are several ...</td>\n",
       "      <td>2000-05-16</td>\n",
       "    </tr>\n",
       "    <tr>\n",
       "      <th>4</th>\n",
       "      <td>5.0</td>\n",
       "      <td>A1LUUO72VAFKFJ</td>\n",
       "      <td>B00004S4TZ</td>\n",
       "      <td>Maybe when Mom cooked for a big family every d...</td>\n",
       "      <td>2000-05-19</td>\n",
       "    </tr>\n",
       "    <tr>\n",
       "      <th>...</th>\n",
       "      <td>...</td>\n",
       "      <td>...</td>\n",
       "      <td>...</td>\n",
       "      <td>...</td>\n",
       "      <td>...</td>\n",
       "    </tr>\n",
       "    <tr>\n",
       "      <th>19525622</th>\n",
       "      <td>5.0</td>\n",
       "      <td>ATLLCVVXJLM20</td>\n",
       "      <td>B01HGSBY1M</td>\n",
       "      <td>I love my robot and want to make sure he alway...</td>\n",
       "      <td>2018-10-04</td>\n",
       "    </tr>\n",
       "    <tr>\n",
       "      <th>19525623</th>\n",
       "      <td>5.0</td>\n",
       "      <td>A9DVSUU814KHG</td>\n",
       "      <td>B01HHDNCJS</td>\n",
       "      <td>Beautiful knife and packaging. Made a great gi...</td>\n",
       "      <td>2018-10-04</td>\n",
       "    </tr>\n",
       "    <tr>\n",
       "      <th>19525624</th>\n",
       "      <td>2.0</td>\n",
       "      <td>A1NUE7VF4F83XK</td>\n",
       "      <td>B01HHDN586</td>\n",
       "      <td>The base of the bottle cap leaks bad especiall...</td>\n",
       "      <td>2018-10-04</td>\n",
       "    </tr>\n",
       "    <tr>\n",
       "      <th>19525625</th>\n",
       "      <td>5.0</td>\n",
       "      <td>A1DNLCUGJSDS8R</td>\n",
       "      <td>B01HISXWU6</td>\n",
       "      <td>Beautiful stones.  Larger then I expected.  Ve...</td>\n",
       "      <td>2018-10-04</td>\n",
       "    </tr>\n",
       "    <tr>\n",
       "      <th>19525626</th>\n",
       "      <td>5.0</td>\n",
       "      <td>A2FWXYFILDRRFH</td>\n",
       "      <td>B01HJGJUF8</td>\n",
       "      <td>Keeps coffee (black coffee) hot for a very lon...</td>\n",
       "      <td>2018-10-05</td>\n",
       "    </tr>\n",
       "  </tbody>\n",
       "</table>\n",
       "<p>19525627 rows × 5 columns</p>\n",
       "</div>"
      ],
      "text/plain": [
       "          overall      reviewerID        asin  \\\n",
       "0             5.0   A84J7PUWOC138  B00004SPEM   \n",
       "1             4.0  A2MNB77YGJ3CN0  B00004R940   \n",
       "2             5.0  A2Y8K7GP1QXUF4  B00004RFLJ   \n",
       "3             5.0  A3MDOV15JHNLB2  B00004SAF7   \n",
       "4             5.0  A1LUUO72VAFKFJ  B00004S4TZ   \n",
       "...           ...             ...         ...   \n",
       "19525622      5.0   ATLLCVVXJLM20  B01HGSBY1M   \n",
       "19525623      5.0   A9DVSUU814KHG  B01HHDNCJS   \n",
       "19525624      2.0  A1NUE7VF4F83XK  B01HHDN586   \n",
       "19525625      5.0  A1DNLCUGJSDS8R  B01HISXWU6   \n",
       "19525626      5.0  A2FWXYFILDRRFH  B01HJGJUF8   \n",
       "\n",
       "                                                 reviewText   rev_date  \n",
       "0         For drip coffee at home, you can't go wrong wi... 2000-05-04  \n",
       "1         I'll admit it -- I'm a bit of a snob when it c... 2000-05-07  \n",
       "2         This is perfection.  You will never use a bett... 2000-05-15  \n",
       "3         This corkscrew is amazing.  There are several ... 2000-05-16  \n",
       "4         Maybe when Mom cooked for a big family every d... 2000-05-19  \n",
       "...                                                     ...        ...  \n",
       "19525622  I love my robot and want to make sure he alway... 2018-10-04  \n",
       "19525623  Beautiful knife and packaging. Made a great gi... 2018-10-04  \n",
       "19525624  The base of the bottle cap leaks bad especiall... 2018-10-04  \n",
       "19525625  Beautiful stones.  Larger then I expected.  Ve... 2018-10-04  \n",
       "19525626  Keeps coffee (black coffee) hot for a very lon... 2018-10-05  \n",
       "\n",
       "[19525627 rows x 5 columns]"
      ]
     },
     "execution_count": 31,
     "metadata": {},
     "output_type": "execute_result"
    }
   ],
   "source": [
    "df"
   ]
  },
  {
   "cell_type": "code",
   "execution_count": 32,
   "metadata": {},
   "outputs": [],
   "source": [
    "#code for removing url in any form\n",
    "import re\n",
    "def remove_urls (vTEXT):\n",
    "    vTEXT = re.sub(r'(https|http|www)(://|\\.)(\\w|\\.|\\/|\\?|\\=|\\&|\\%|[-]|\\///)*\\b', '', vTEXT, flags=re.MULTILINE)\n",
    "    return(vTEXT)"
   ]
  },
  {
   "cell_type": "code",
   "execution_count": 33,
   "metadata": {},
   "outputs": [],
   "source": [
    "#Get all the indexes of reviewtext which has url\n",
    "idrev = df[df.reviewText.str.match(pat = '(https)|(http)|(www.)')].index"
   ]
  },
  {
   "cell_type": "code",
   "execution_count": 34,
   "metadata": {},
   "outputs": [
    {
     "data": {
      "text/plain": [
       "Int64Index([   74860,    75308,    75824,    84431,    85987,    87209,\n",
       "               90895,    93883,    96131,    99861,\n",
       "            ...\n",
       "            19022204, 19024435, 19067368, 19129718, 19222268, 19223852,\n",
       "            19224882, 19239353, 19355583, 19519064],\n",
       "           dtype='int64', length=1022)"
      ]
     },
     "execution_count": 34,
     "metadata": {},
     "output_type": "execute_result"
    }
   ],
   "source": [
    "#Index of all the reviews which has urls\n",
    "idrev"
   ]
  },
  {
   "cell_type": "code",
   "execution_count": 35,
   "metadata": {},
   "outputs": [
    {
     "data": {
      "text/plain": [
       "'http://www.amazon.com/gp/r.html?R=29X6S3WLIEYM7&C=3V8D31BXPAK8Q&H=RzFWJcgAnKz398zzIJrJCIuP33UA&T=C&U=http%3A%2F%2Fwww.amazon.com%2Freview%2Fcreate-review%2Fref%3Dpe_6680_10397670_cm_cr_ec_add_1_h_c10397670%3Fie%3DUTF8%26nodeID%3D%26asin%3DB000K6LLMA%26customerID%3DA3U3VIYMKE5CUX\\nThis collar was extremely too big!!  It is faulty and did not work well on the animal.  It went off when it felt like it and it is very loud to the human ear!  My dog just barked louder so I could here her over the beeping noise.  I would not recommend this product to anyone with a small dog the box is way too big for a small dog. //dog collar'"
      ]
     },
     "execution_count": 35,
     "metadata": {},
     "output_type": "execute_result"
    }
   ],
   "source": [
    "#Check a sample review test with url\n",
    "df.reviewText[74860]"
   ]
  },
  {
   "cell_type": "code",
   "execution_count": 36,
   "metadata": {},
   "outputs": [
    {
     "data": {
      "text/plain": [
       "'\\nThis collar was extremely too big!!  It is faulty and did not work well on the animal.  It went off when it felt like it and it is very loud to the human ear!  My dog just barked louder so I could here her over the beeping noise.  I would not recommend this product to anyone with a small dog the box is way too big for a small dog. //dog collar'"
      ]
     },
     "execution_count": 36,
     "metadata": {},
     "output_type": "execute_result"
    }
   ],
   "source": [
    "#After removing url\n",
    "remove_urls(df.reviewText[74860])"
   ]
  },
  {
   "cell_type": "code",
   "execution_count": 37,
   "metadata": {},
   "outputs": [
    {
     "name": "stderr",
     "output_type": "stream",
     "text": [
      "/home/014544907/.local/lib/python3.6/site-packages/ipykernel_launcher.py:3: SettingWithCopyWarning: \n",
      "A value is trying to be set on a copy of a slice from a DataFrame\n",
      "\n",
      "See the caveats in the documentation: https://pandas.pydata.org/pandas-docs/stable/user_guide/indexing.html#returning-a-view-versus-a-copy\n",
      "  This is separate from the ipykernel package so we can avoid doing imports until\n"
     ]
    }
   ],
   "source": [
    "#Remove url for all the indexes which had url\n",
    "for i in idrev:\n",
    "    df.reviewText[i] = remove_urls(df.reviewText[i])"
   ]
  },
  {
   "cell_type": "code",
   "execution_count": 38,
   "metadata": {},
   "outputs": [],
   "source": [
    "#Double check if reviewtext still contains http/www\n",
    "idrev = df[df.reviewText.str.match(pat = '(https)|(http)|(www.)')].index"
   ]
  },
  {
   "cell_type": "code",
   "execution_count": 39,
   "metadata": {},
   "outputs": [
    {
     "data": {
      "text/plain": [
       "Int64Index([5432942, 11807698], dtype='int64')"
      ]
     },
     "execution_count": 39,
     "metadata": {},
     "output_type": "execute_result"
    }
   ],
   "source": [
    "#check index\n",
    "idrev"
   ]
  },
  {
   "cell_type": "code",
   "execution_count": 40,
   "metadata": {},
   "outputs": [
    {
     "name": "stdout",
     "output_type": "stream",
     "text": [
      "I love these liners!!! I cut one of sheets smaller to fit in my toaster oven and it works perfect! I'm in love! //I love these liners\n",
      "Was extremely pleased with this knife sharpener, it sharpens kn //Five Stars\n"
     ]
    }
   ],
   "source": [
    "#These are not removed, because they are not actually urls\n",
    "print(df.reviewText[11807784])\n",
    "print(df.reviewText[5432958])"
   ]
  },
  {
   "cell_type": "code",
   "execution_count": 41,
   "metadata": {},
   "outputs": [
    {
     "data": {
      "text/plain": [
       "overall       0\n",
       "reviewerID    0\n",
       "asin          0\n",
       "reviewText    0\n",
       "rev_date      0\n",
       "dtype: int64"
      ]
     },
     "execution_count": 41,
     "metadata": {},
     "output_type": "execute_result"
    }
   ],
   "source": [
    "#Check for null values\n",
    "df.isnull().sum()"
   ]
  },
  {
   "cell_type": "code",
   "execution_count": 42,
   "metadata": {},
   "outputs": [
    {
     "data": {
      "text/html": [
       "<div>\n",
       "<style scoped>\n",
       "    .dataframe tbody tr th:only-of-type {\n",
       "        vertical-align: middle;\n",
       "    }\n",
       "\n",
       "    .dataframe tbody tr th {\n",
       "        vertical-align: top;\n",
       "    }\n",
       "\n",
       "    .dataframe thead th {\n",
       "        text-align: right;\n",
       "    }\n",
       "</style>\n",
       "<table border=\"1\" class=\"dataframe\">\n",
       "  <thead>\n",
       "    <tr style=\"text-align: right;\">\n",
       "      <th></th>\n",
       "      <th>overall</th>\n",
       "      <th>reviewerID</th>\n",
       "      <th>asin</th>\n",
       "      <th>reviewText</th>\n",
       "      <th>rev_date</th>\n",
       "    </tr>\n",
       "  </thead>\n",
       "  <tbody>\n",
       "    <tr>\n",
       "      <th>0</th>\n",
       "      <td>5.0</td>\n",
       "      <td>A84J7PUWOC138</td>\n",
       "      <td>B00004SPEM</td>\n",
       "      <td>For drip coffee at home, you can't go wrong wi...</td>\n",
       "      <td>2000-05-04</td>\n",
       "    </tr>\n",
       "    <tr>\n",
       "      <th>1</th>\n",
       "      <td>4.0</td>\n",
       "      <td>A2MNB77YGJ3CN0</td>\n",
       "      <td>B00004R940</td>\n",
       "      <td>I'll admit it -- I'm a bit of a snob when it c...</td>\n",
       "      <td>2000-05-07</td>\n",
       "    </tr>\n",
       "    <tr>\n",
       "      <th>2</th>\n",
       "      <td>5.0</td>\n",
       "      <td>A2Y8K7GP1QXUF4</td>\n",
       "      <td>B00004RFLJ</td>\n",
       "      <td>This is perfection.  You will never use a bett...</td>\n",
       "      <td>2000-05-15</td>\n",
       "    </tr>\n",
       "    <tr>\n",
       "      <th>3</th>\n",
       "      <td>5.0</td>\n",
       "      <td>A3MDOV15JHNLB2</td>\n",
       "      <td>B00004SAF7</td>\n",
       "      <td>This corkscrew is amazing.  There are several ...</td>\n",
       "      <td>2000-05-16</td>\n",
       "    </tr>\n",
       "    <tr>\n",
       "      <th>4</th>\n",
       "      <td>5.0</td>\n",
       "      <td>A1LUUO72VAFKFJ</td>\n",
       "      <td>B00004S4TZ</td>\n",
       "      <td>Maybe when Mom cooked for a big family every d...</td>\n",
       "      <td>2000-05-19</td>\n",
       "    </tr>\n",
       "    <tr>\n",
       "      <th>...</th>\n",
       "      <td>...</td>\n",
       "      <td>...</td>\n",
       "      <td>...</td>\n",
       "      <td>...</td>\n",
       "      <td>...</td>\n",
       "    </tr>\n",
       "    <tr>\n",
       "      <th>19525622</th>\n",
       "      <td>5.0</td>\n",
       "      <td>ATLLCVVXJLM20</td>\n",
       "      <td>B01HGSBY1M</td>\n",
       "      <td>I love my robot and want to make sure he alway...</td>\n",
       "      <td>2018-10-04</td>\n",
       "    </tr>\n",
       "    <tr>\n",
       "      <th>19525623</th>\n",
       "      <td>5.0</td>\n",
       "      <td>A9DVSUU814KHG</td>\n",
       "      <td>B01HHDNCJS</td>\n",
       "      <td>Beautiful knife and packaging. Made a great gi...</td>\n",
       "      <td>2018-10-04</td>\n",
       "    </tr>\n",
       "    <tr>\n",
       "      <th>19525624</th>\n",
       "      <td>2.0</td>\n",
       "      <td>A1NUE7VF4F83XK</td>\n",
       "      <td>B01HHDN586</td>\n",
       "      <td>The base of the bottle cap leaks bad especiall...</td>\n",
       "      <td>2018-10-04</td>\n",
       "    </tr>\n",
       "    <tr>\n",
       "      <th>19525625</th>\n",
       "      <td>5.0</td>\n",
       "      <td>A1DNLCUGJSDS8R</td>\n",
       "      <td>B01HISXWU6</td>\n",
       "      <td>Beautiful stones.  Larger then I expected.  Ve...</td>\n",
       "      <td>2018-10-04</td>\n",
       "    </tr>\n",
       "    <tr>\n",
       "      <th>19525626</th>\n",
       "      <td>5.0</td>\n",
       "      <td>A2FWXYFILDRRFH</td>\n",
       "      <td>B01HJGJUF8</td>\n",
       "      <td>Keeps coffee (black coffee) hot for a very lon...</td>\n",
       "      <td>2018-10-05</td>\n",
       "    </tr>\n",
       "  </tbody>\n",
       "</table>\n",
       "<p>19525627 rows × 5 columns</p>\n",
       "</div>"
      ],
      "text/plain": [
       "          overall      reviewerID        asin  \\\n",
       "0             5.0   A84J7PUWOC138  B00004SPEM   \n",
       "1             4.0  A2MNB77YGJ3CN0  B00004R940   \n",
       "2             5.0  A2Y8K7GP1QXUF4  B00004RFLJ   \n",
       "3             5.0  A3MDOV15JHNLB2  B00004SAF7   \n",
       "4             5.0  A1LUUO72VAFKFJ  B00004S4TZ   \n",
       "...           ...             ...         ...   \n",
       "19525622      5.0   ATLLCVVXJLM20  B01HGSBY1M   \n",
       "19525623      5.0   A9DVSUU814KHG  B01HHDNCJS   \n",
       "19525624      2.0  A1NUE7VF4F83XK  B01HHDN586   \n",
       "19525625      5.0  A1DNLCUGJSDS8R  B01HISXWU6   \n",
       "19525626      5.0  A2FWXYFILDRRFH  B01HJGJUF8   \n",
       "\n",
       "                                                 reviewText   rev_date  \n",
       "0         For drip coffee at home, you can't go wrong wi... 2000-05-04  \n",
       "1         I'll admit it -- I'm a bit of a snob when it c... 2000-05-07  \n",
       "2         This is perfection.  You will never use a bett... 2000-05-15  \n",
       "3         This corkscrew is amazing.  There are several ... 2000-05-16  \n",
       "4         Maybe when Mom cooked for a big family every d... 2000-05-19  \n",
       "...                                                     ...        ...  \n",
       "19525622  I love my robot and want to make sure he alway... 2018-10-04  \n",
       "19525623  Beautiful knife and packaging. Made a great gi... 2018-10-04  \n",
       "19525624  The base of the bottle cap leaks bad especiall... 2018-10-04  \n",
       "19525625  Beautiful stones.  Larger then I expected.  Ve... 2018-10-04  \n",
       "19525626  Keeps coffee (black coffee) hot for a very lon... 2018-10-05  \n",
       "\n",
       "[19525627 rows x 5 columns]"
      ]
     },
     "execution_count": 42,
     "metadata": {},
     "output_type": "execute_result"
    }
   ],
   "source": [
    "df"
   ]
  },
  {
   "cell_type": "code",
   "execution_count": 43,
   "metadata": {},
   "outputs": [
    {
     "data": {
      "text/plain": [
       "array([5., 4., 2., 1., 3.])"
      ]
     },
     "execution_count": 43,
     "metadata": {},
     "output_type": "execute_result"
    }
   ],
   "source": [
    "#Check if overall contains valid rating\n",
    "df.overall.unique()"
   ]
  },
  {
   "cell_type": "code",
   "execution_count": 48,
   "metadata": {},
   "outputs": [
    {
     "data": {
      "text/html": [
       "<div>\n",
       "<style scoped>\n",
       "    .dataframe tbody tr th:only-of-type {\n",
       "        vertical-align: middle;\n",
       "    }\n",
       "\n",
       "    .dataframe tbody tr th {\n",
       "        vertical-align: top;\n",
       "    }\n",
       "\n",
       "    .dataframe thead th {\n",
       "        text-align: right;\n",
       "    }\n",
       "</style>\n",
       "<table border=\"1\" class=\"dataframe\">\n",
       "  <thead>\n",
       "    <tr style=\"text-align: right;\">\n",
       "      <th></th>\n",
       "      <th>overall</th>\n",
       "      <th>reviewerID</th>\n",
       "      <th>asin</th>\n",
       "      <th>reviewText</th>\n",
       "      <th>rev_date</th>\n",
       "    </tr>\n",
       "  </thead>\n",
       "  <tbody>\n",
       "  </tbody>\n",
       "</table>\n",
       "</div>"
      ],
      "text/plain": [
       "Empty DataFrame\n",
       "Columns: [overall, reviewerID, asin, reviewText, rev_date]\n",
       "Index: []"
      ]
     },
     "execution_count": 48,
     "metadata": {},
     "output_type": "execute_result"
    }
   ],
   "source": [
    "df[df.reviewText.str.contains(' NaN ')==True]"
   ]
  },
  {
   "cell_type": "code",
   "execution_count": 44,
   "metadata": {},
   "outputs": [],
   "source": [
    "df.to_pickle('Clean_data')"
   ]
  }
 ],
 "metadata": {
  "colab": {
   "collapsed_sections": [],
   "name": "Amz_scratch.ipynb",
   "provenance": []
  },
  "kernelspec": {
   "display_name": "Python 3",
   "language": "python",
   "name": "python3"
  },
  "language_info": {
   "codemirror_mode": {
    "name": "ipython",
    "version": 3
   },
   "file_extension": ".py",
   "mimetype": "text/x-python",
   "name": "python",
   "nbconvert_exporter": "python",
   "pygments_lexer": "ipython3",
   "version": "3.6.10"
  }
 },
 "nbformat": 4,
 "nbformat_minor": 1
}
